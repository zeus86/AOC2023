{
 "cells": [
  {
   "cell_type": "code",
   "execution_count": 66,
   "id": "cfbaa324-f28c-4035-b1dc-49de1110891d",
   "metadata": {},
   "outputs": [
    {
     "name": "stdout",
     "output_type": "stream",
     "text": [
      "Result of part 1: 54632\n",
      "code  code_python.ipynb  input\tsample_input\n"
     ]
    }
   ],
   "source": [
    "import re\n",
    "\n",
    "def readfile(input_file):\n",
    "    with open(input_file, \"r\") as f_in:\n",
    "        lines = []\n",
    "        for line in f_in.readlines():\n",
    "            lines.append(line.strip())\n",
    "        # print(lines)\n",
    "        return list(filter(None,lines))\n",
    "\n",
    "def part1(_data):\n",
    "    digit_list = []\n",
    "    for i in data:\n",
    "        # print(re.findall(r\"\\d+\", i))\n",
    "        first = \"\".join(re.findall(r\"\\d+\", i))[0]\n",
    "        last =  \"\".join(re.findall(r\"\\d+\", i))[-1]\n",
    "        # print(first)\n",
    "        digits = int(\"\".join([first,last]))\n",
    "        # print(i)\n",
    "        # print(digits)\n",
    "        digit_list.append(digits)\n",
    "    return sum(digit_list)\n",
    "\n",
    "input = \"input\"    \n",
    "\n",
    "data = readfile(input)\n",
    "# print(data)\n",
    "res_part1 = part1(data)\n",
    "print(f\"Result of part 1: {res_part1}\")\n"
   ]
  },
  {
   "cell_type": "code",
   "execution_count": null,
   "id": "b7cb2e8b-5dbb-4c84-90c4-45a532c3fbe8",
   "metadata": {},
   "outputs": [],
   "source": []
  }
 ],
 "metadata": {
  "kernelspec": {
   "display_name": "Python 3 (ipykernel)",
   "language": "python",
   "name": "python3"
  },
  "language_info": {
   "codemirror_mode": {
    "name": "ipython",
    "version": 3
   },
   "file_extension": ".py",
   "mimetype": "text/x-python",
   "name": "python",
   "nbconvert_exporter": "python",
   "pygments_lexer": "ipython3",
   "version": "3.11.6"
  }
 },
 "nbformat": 4,
 "nbformat_minor": 5
}
